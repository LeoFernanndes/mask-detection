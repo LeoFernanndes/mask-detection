{
 "cells": [
  {
   "cell_type": "code",
   "execution_count": 11,
   "id": "268c5e29",
   "metadata": {},
   "outputs": [],
   "source": [
    "from keras.optimizers import RMSprop\n",
    "from keras.preprocessing.image import ImageDataGenerator\n",
    "import cv2\n",
    "from keras.models import Sequential\n",
    "from keras.layers import Conv2D, Input, ZeroPadding2D, BatchNormalization, Activation, MaxPooling2D, Flatten, Dense,Dropout\n",
    "from keras.models import Model, load_model\n",
    "from keras.callbacks import TensorBoard, ModelCheckpoint\n",
    "from sklearn.model_selection import train_test_split\n",
    "from sklearn.metrics import f1_score\n",
    "from sklearn.utils import shuffle\n",
    "import imutils\n",
    "import numpy as np\n",
    "import PIL"
   ]
  },
  {
   "cell_type": "code",
   "execution_count": 12,
   "id": "09d5144d",
   "metadata": {},
   "outputs": [],
   "source": [
    "model = Sequential([\n",
    "    Conv2D(100, (3,3), activation='relu', input_shape=(150, 150, 3)),\n",
    "    MaxPooling2D(2,2),\n",
    "    \n",
    "    Conv2D(100, (3,3), activation='relu'),\n",
    "    MaxPooling2D(2,2),\n",
    "    \n",
    "    Flatten(),\n",
    "    Dropout(0.5),\n",
    "    Dense(50, activation='relu'),\n",
    "    Dense(2, activation='softmax')\n",
    "])\n",
    "model.compile(optimizer='adam', loss='binary_crossentropy', metrics=['acc'])"
   ]
  },
  {
   "cell_type": "code",
   "execution_count": 13,
   "id": "660da659",
   "metadata": {},
   "outputs": [
    {
     "name": "stdout",
     "output_type": "stream",
     "text": [
      "Found 1315 images belonging to 2 classes.\n",
      "Found 194 images belonging to 2 classes.\n"
     ]
    }
   ],
   "source": [
    "TRAINING_DIR = \"./train\"\n",
    "train_datagen = ImageDataGenerator(rescale=1.0/255,\n",
    "                                   rotation_range=40,\n",
    "                                   width_shift_range=0.2,\n",
    "                                   height_shift_range=0.2,\n",
    "                                   shear_range=0.2,\n",
    "                                   zoom_range=0.2,\n",
    "                                   horizontal_flip=True,\n",
    "                                   fill_mode='nearest')\n",
    "train_generator = train_datagen.flow_from_directory(TRAINING_DIR, \n",
    "                                                    batch_size=10, \n",
    "                                                    target_size=(150, 150))\n",
    "VALIDATION_DIR = \"./test\"\n",
    "validation_datagen = ImageDataGenerator(rescale=1.0/255)\n",
    "validation_generator = validation_datagen.flow_from_directory(VALIDATION_DIR, \n",
    "                                                         batch_size=10, \n",
    "                                                         target_size=(150, 150))"
   ]
  },
  {
   "cell_type": "code",
   "execution_count": 14,
   "id": "0248a15f",
   "metadata": {},
   "outputs": [],
   "source": [
    "checkpoint = ModelCheckpoint('model2-{epoch:03d}.model',monitor='val_loss',verbose=0,save_best_only=True,mode='auto')"
   ]
  },
  {
   "cell_type": "code",
   "execution_count": 15,
   "id": "049e2238",
   "metadata": {},
   "outputs": [
    {
     "name": "stdout",
     "output_type": "stream",
     "text": [
      "Epoch 1/10\n",
      "132/132 [==============================] - 112s 738ms/step - loss: 0.7110 - acc: 0.6798 - val_loss: 0.3451 - val_acc: 0.8299\n",
      "INFO:tensorflow:Assets written to: model2-001.model/assets\n",
      "Epoch 2/10\n",
      "132/132 [==============================] - 104s 788ms/step - loss: 0.3300 - acc: 0.8882 - val_loss: 0.2634 - val_acc: 0.8711\n",
      "INFO:tensorflow:Assets written to: model2-002.model/assets\n",
      "Epoch 3/10\n",
      "132/132 [==============================] - 113s 855ms/step - loss: 0.3022 - acc: 0.8834 - val_loss: 0.1730 - val_acc: 0.9175\n",
      "INFO:tensorflow:Assets written to: model2-003.model/assets\n",
      "Epoch 4/10\n",
      "132/132 [==============================] - 113s 855ms/step - loss: 0.2647 - acc: 0.9048 - val_loss: 0.0630 - val_acc: 0.9794\n",
      "INFO:tensorflow:Assets written to: model2-004.model/assets\n",
      "Epoch 5/10\n",
      "132/132 [==============================] - 111s 842ms/step - loss: 0.2792 - acc: 0.8934 - val_loss: 0.0980 - val_acc: 0.9691\n",
      "Epoch 6/10\n",
      "132/132 [==============================] - 106s 802ms/step - loss: 0.2487 - acc: 0.8926 - val_loss: 0.1164 - val_acc: 0.9433\n",
      "Epoch 7/10\n",
      "132/132 [==============================] - 110s 830ms/step - loss: 0.2264 - acc: 0.9071 - val_loss: 0.1140 - val_acc: 0.9536\n",
      "Epoch 8/10\n",
      "132/132 [==============================] - 109s 829ms/step - loss: 0.1816 - acc: 0.9308 - val_loss: 0.0652 - val_acc: 0.9588\n",
      "Epoch 9/10\n",
      "132/132 [==============================] - 109s 826ms/step - loss: 0.1864 - acc: 0.9383 - val_loss: 0.0510 - val_acc: 0.9897\n",
      "INFO:tensorflow:Assets written to: model2-009.model/assets\n",
      "Epoch 10/10\n",
      "132/132 [==============================] - 111s 838ms/step - loss: 0.1826 - acc: 0.9394 - val_loss: 0.0717 - val_acc: 0.9639\n"
     ]
    }
   ],
   "source": [
    "history = model.fit(train_generator,\n",
    "                              epochs=10,\n",
    "                              validation_data=validation_generator,\n",
    "                              callbacks=[checkpoint])"
   ]
  },
  {
   "cell_type": "code",
   "execution_count": null,
   "id": "ac671b4e",
   "metadata": {},
   "outputs": [],
   "source": []
  }
 ],
 "metadata": {
  "kernelspec": {
   "display_name": "Python 3",
   "language": "python",
   "name": "python3"
  },
  "language_info": {
   "codemirror_mode": {
    "name": "ipython",
    "version": 3
   },
   "file_extension": ".py",
   "mimetype": "text/x-python",
   "name": "python",
   "nbconvert_exporter": "python",
   "pygments_lexer": "ipython3",
   "version": "3.8.5"
  }
 },
 "nbformat": 4,
 "nbformat_minor": 5
}
